{
 "cells": [
  {
   "cell_type": "code",
   "execution_count": 11,
   "metadata": {},
   "outputs": [
    {
     "name": "stdout",
     "output_type": "stream",
     "text": [
      "Defaulting to user installation because normal site-packages is not writeable\n",
      "Requirement already satisfied: polars in c:\\users\\vladi\\appdata\\local\\packages\\pythonsoftwarefoundation.python.3.12_qbz5n2kfra8p0\\localcache\\local-packages\\python312\\site-packages (1.12.0)\n"
     ]
    }
   ],
   "source": [
    "# !python -m pip install tables pyarrow --upgrade\n",
    "!pip install polars"
   ]
  },
  {
   "cell_type": "code",
   "execution_count": 13,
   "metadata": {},
   "outputs": [],
   "source": [
    "import pandas as pd\n",
    "\n",
    "pd.set_option('display.max_columns', None)\n",
    "pd.set_option('display.max_rows', 200)"
   ]
  },
  {
   "cell_type": "code",
   "execution_count": 10,
   "metadata": {},
   "outputs": [],
   "source": [
    "from table import Table\n",
    "from blackbox import BlackBox"
   ]
  },
  {
   "cell_type": "code",
   "execution_count": 4,
   "metadata": {},
   "outputs": [],
   "source": [
    "\n",
    "if __name__ == \"__main__\":\n",
    "    address = \"raw_points/wood/rs-70_pcds/1717020290-942984619/3/wood_rs-70_pcds_1717020290-942984619_172_1.npz\"\n",
    "\n",
    "    # volume, semiaxis, confine\n",
    "    scale_corrections = {\n",
    "    \"polygon\": (1e-6, 1, 100),\n",
    "    \"wood\": (1e-6, 1., 100.),\n",
    "    \"synthetic\": (1, 1., 1.)\n",
    "    }\n",
    "\n",
    "    main_variables = {\n",
    "        \"sphere_resolution\": 5000,\n",
    "        \"n_iterations\": 10000\n",
    "    }\n",
    "\n",
    "    hyperparameters = {\n",
    "        \"threshold\": 0.1,\n",
    "        \"confine_coeff\": 5,\n",
    "        \"h\": 3,\n",
    "        \"method\": \"count\",\n",
    "    }\n",
    "\n",
    "\n"
   ]
  },
  {
   "cell_type": "code",
   "execution_count": 5,
   "metadata": {},
   "outputs": [
    {
     "name": "stdout",
     "output_type": "stream",
     "text": [
      "res_new torch.Size([10000, 5000, 1]) torch.float32\n",
      "distances torch.Size([10000, 5000, 1]) torch.float32\n",
      "tensor([[[ 1.8967e-05],\n",
      "         [-5.8554e-05],\n",
      "         [ 1.3845e-04],\n",
      "         ...,\n",
      "         [ 1.1159e-04],\n",
      "         [ 1.5204e-04],\n",
      "         [-3.4869e-05]],\n",
      "\n",
      "        [[-2.8640e-04],\n",
      "         [-2.4498e-04],\n",
      "         [-3.6240e-05],\n",
      "         ...,\n",
      "         [ 2.3872e-04],\n",
      "         [ 4.6015e-05],\n",
      "         [ 4.0257e-04]],\n",
      "\n",
      "        [[ 9.0754e-04],\n",
      "         [-1.7762e-04],\n",
      "         [ 1.3014e-03],\n",
      "         ...,\n",
      "         [-6.4158e-04],\n",
      "         [ 6.2776e-04],\n",
      "         [-2.7355e-03]],\n",
      "\n",
      "        ...,\n",
      "\n",
      "        [[ 2.6213e-03],\n",
      "         [-5.2303e-04],\n",
      "         [ 7.1365e-04],\n",
      "         ...,\n",
      "         [-2.7305e-03],\n",
      "         [ 1.5235e-04],\n",
      "         [-4.5644e-03]],\n",
      "\n",
      "        [[-1.3912e-04],\n",
      "         [-7.5340e-05],\n",
      "         [ 1.9491e-05],\n",
      "         ...,\n",
      "         [ 6.5541e-04],\n",
      "         [ 3.4094e-05],\n",
      "         [ 7.6735e-04]],\n",
      "\n",
      "        [[-1.7148e-04],\n",
      "         [ 1.7005e-04],\n",
      "         [ 1.0842e-04],\n",
      "         ...,\n",
      "         [-5.9772e-04],\n",
      "         [-2.4378e-05],\n",
      "         [-6.1214e-05]]])\n",
      "mask torch.Size([10000, 5000]) torch.bool\n",
      "intersect torch.Size([10000]) torch.int64\n",
      "tensor([6.8850e-14, 4.0522e-23, 2.8614e-14,  ..., 1.3403e-20, 8.2813e-14,\n",
      "        1.2048e-13])\n",
      "v_pred torch.Size([10000]) torch.float32\n",
      "v_orig torch.Size([10000]) torch.float32\n",
      "tensor([6.8850e-14, 4.0522e-23, 2.8614e-14,  ..., 1.3403e-20, 8.2813e-14,\n",
      "        1.2048e-13])\n",
      "min_val torch.Size([10000])\n",
      "tensor([3.4177e-14, 2.2328e-23, 1.7460e-14,  ..., 8.6341e-21, 2.6268e-14,\n",
      "        7.5177e-14])\n",
      "v_intersect torch.Size([10000]) torch.float32\n",
      "IoU torch.Size([10000])\n",
      "tensor([3.7975e-10, 2.4808e-19, 1.9400e-10,  ..., 9.5935e-17, 2.9187e-10,\n",
      "        8.3530e-10])\n",
      "tensor(0.5565)\n"
     ]
    },
    {
     "data": {
      "text/html": [
       "<div><style>\n",
       ".dataframe > thead > tr,\n",
       ".dataframe > tbody > tr {\n",
       "  text-align: right;\n",
       "  white-space: pre-wrap;\n",
       "}\n",
       "</style>\n",
       "<small>shape: (20, 50)</small><table border=\"1\" class=\"dataframe\"><thead><tr><th>hyp_a</th><th>hyp_b</th><th>hyp_c</th><th>hyp_d</th><th>hyp_e</th><th>hyp_f</th><th>hyp_g</th><th>hyp_h</th><th>hyp_i</th><th>hyp_j</th><th>dataset</th><th>sector</th><th>pcd_name</th><th>method</th><th>tomato_id</th><th>confine_coeff</th><th>K</th><th>h</th><th>threshold</th><th>sphere_resolution</th><th>iou</th><th>intersect_volume</th><th>intersect_point_count</th><th>pred_volume</th><th>pred_x</th><th>pred_y</th><th>pred_z</th><th>pred_a</th><th>pred_b</th><th>pred_c</th><th>pred_rot_x</th><th>pred_rot_y</th><th>pred_rot_z</th><th>pred_rot_w</th><th>real_volume</th><th>real_x</th><th>real_y</th><th>real_z</th><th>real_a</th><th>real_b</th><th>real_c</th><th>real_rot_x</th><th>real_rot_y</th><th>real_rot_z</th><th>real_rot_w</th><th>real_points_count</th><th>water_volume</th><th>rejected</th><th>inlier_value</th><th>ransac_iteration</th></tr><tr><td>f64</td><td>f64</td><td>f64</td><td>f64</td><td>f64</td><td>f64</td><td>f64</td><td>f64</td><td>f64</td><td>f64</td><td>str</td><td>str</td><td>str</td><td>str</td><td>u16</td><td>u8</td><td>f64</td><td>f64</td><td>f64</td><td>u16</td><td>f64</td><td>f64</td><td>u16</td><td>f64</td><td>f64</td><td>f64</td><td>f64</td><td>f64</td><td>f64</td><td>f64</td><td>f64</td><td>f64</td><td>f64</td><td>f64</td><td>f64</td><td>f64</td><td>f64</td><td>f64</td><td>f64</td><td>f64</td><td>f64</td><td>f64</td><td>f64</td><td>f64</td><td>f64</td><td>u16</td><td>f64</td><td>u8</td><td>f64</td><td>u16</td></tr></thead><tbody><tr><td>-0.228911</td><td>-0.079735</td><td>-0.505236</td><td>-0.029487</td><td>-0.176226</td><td>-0.021621</td><td>0.308212</td><td>0.033931</td><td>0.702181</td><td>-1.0</td><td>&quot;wood&quot;</td><td>&quot;rs-70_pcds&quot;</td><td>&quot;1717020290-942984619&quot;</td><td>&quot;count&quot;</td><td>3</td><td>5</td><td>12.50001</td><td>3.0</td><td>0.1</td><td>5000</td><td>0.106856</td><td>0.000012</td><td>1733</td><td>0.000035</td><td>0.385607</td><td>-0.05812</td><td>1.257796</td><td>0.011333</td><td>0.022741</td><td>0.032185</td><td>0.26444</td><td>-0.328132</td><td>-0.401456</td><td>0.813163</td><td>0.00009</td><td>0.381883</td><td>-0.055284</td><td>1.265036</td><td>0.0278</td><td>0.0278</td><td>0.0278</td><td>0.0</td><td>0.0</td><td>0.0</td><td>1.0</td><td>172</td><td>90.0</td><td>0</td><td>172.0</td><td>15</td></tr><tr><td>-0.714308</td><td>-0.519436</td><td>-0.777844</td><td>0.152739</td><td>0.32209</td><td>-0.398582</td><td>-0.12252</td><td>0.416897</td><td>0.841881</td><td>-1.0</td><td>&quot;wood&quot;</td><td>&quot;rs-70_pcds&quot;</td><td>&quot;1717020290-942984619&quot;</td><td>&quot;count&quot;</td><td>3</td><td>5</td><td>12.50001</td><td>3.0</td><td>0.1</td><td>5000</td><td>0.324035</td><td>0.00004</td><td>2688</td><td>0.000075</td><td>0.390474</td><td>-0.061241</td><td>1.275395</td><td>0.016694</td><td>0.0265</td><td>0.040585</td><td>0.444897</td><td>-0.220705</td><td>0.849372</td><td>-0.178673</td><td>0.00009</td><td>0.381883</td><td>-0.055284</td><td>1.265036</td><td>0.0278</td><td>0.0278</td><td>0.0278</td><td>0.0</td><td>0.0</td><td>0.0</td><td>1.0</td><td>172</td><td>90.0</td><td>0</td><td>172.0</td><td>16</td></tr><tr><td>-0.937587</td><td>-0.364295</td><td>-0.39212</td><td>0.242148</td><td>-0.190822</td><td>0.109159</td><td>0.616683</td><td>-0.244934</td><td>0.584015</td><td>-1.0</td><td>&quot;wood&quot;</td><td>&quot;rs-70_pcds&quot;</td><td>&quot;1717020290-942984619&quot;</td><td>&quot;count&quot;</td><td>3</td><td>5</td><td>12.50001</td><td>3.0</td><td>0.1</td><td>5000</td><td>0.165133</td><td>0.000064</td><td>3565</td><td>0.000363</td><td>0.387488</td><td>-0.027281</td><td>1.293218</td><td>0.028661</td><td>0.051135</td><td>0.059091</td><td>-0.054293</td><td>0.015235</td><td>0.997798</td><td>-0.03492</td><td>0.00009</td><td>0.381883</td><td>-0.055284</td><td>1.265036</td><td>0.0278</td><td>0.0278</td><td>0.0278</td><td>0.0</td><td>0.0</td><td>0.0</td><td>1.0</td><td>172</td><td>90.0</td><td>0</td><td>172.0</td><td>66</td></tr><tr><td>-0.618203</td><td>-0.611857</td><td>-0.653381</td><td>0.112118</td><td>0.087123</td><td>-0.448571</td><td>0.13539</td><td>0.491315</td><td>0.769417</td><td>-1.0</td><td>&quot;wood&quot;</td><td>&quot;rs-70_pcds&quot;</td><td>&quot;1717020290-942984619&quot;</td><td>&quot;count&quot;</td><td>3</td><td>5</td><td>12.50001</td><td>3.0</td><td>0.1</td><td>5000</td><td>0.371187</td><td>0.000044</td><td>3023</td><td>0.000073</td><td>0.387614</td><td>-0.054775</td><td>1.266885</td><td>0.017163</td><td>0.023861</td><td>0.042536</td><td>0.320938</td><td>-0.248994</td><td>0.902017</td><td>-0.146172</td><td>0.00009</td><td>0.381883</td><td>-0.055284</td><td>1.265036</td><td>0.0278</td><td>0.0278</td><td>0.0278</td><td>0.0</td><td>0.0</td><td>0.0</td><td>1.0</td><td>172</td><td>90.0</td><td>0</td><td>172.0</td><td>94</td></tr><tr><td>-0.332801</td><td>-0.293314</td><td>-0.699606</td><td>0.098635</td><td>0.147207</td><td>-0.265568</td><td>-0.052544</td><td>0.282524</td><td>0.816318</td><td>-1.0</td><td>&quot;wood&quot;</td><td>&quot;rs-70_pcds&quot;</td><td>&quot;1717020290-942984619&quot;</td><td>&quot;count&quot;</td><td>3</td><td>5</td><td>12.50001</td><td>3.0</td><td>0.1</td><td>5000</td><td>0.213334</td><td>0.000025</td><td>2431</td><td>0.000051</td><td>0.387052</td><td>-0.056101</td><td>1.269562</td><td>0.014249</td><td>0.025302</td><td>0.033762</td><td>0.276315</td><td>0.336586</td><td>0.252827</td><td>0.863966</td><td>0.00009</td><td>0.381883</td><td>-0.055284</td><td>1.265036</td><td>0.0278</td><td>0.0278</td><td>0.0278</td><td>0.0</td><td>0.0</td><td>0.0</td><td>1.0</td><td>172</td><td>90.0</td><td>0</td><td>172.0</td><td>97</td></tr><tr><td>&hellip;</td><td>&hellip;</td><td>&hellip;</td><td>&hellip;</td><td>&hellip;</td><td>&hellip;</td><td>&hellip;</td><td>&hellip;</td><td>&hellip;</td><td>&hellip;</td><td>&hellip;</td><td>&hellip;</td><td>&hellip;</td><td>&hellip;</td><td>&hellip;</td><td>&hellip;</td><td>&hellip;</td><td>&hellip;</td><td>&hellip;</td><td>&hellip;</td><td>&hellip;</td><td>&hellip;</td><td>&hellip;</td><td>&hellip;</td><td>&hellip;</td><td>&hellip;</td><td>&hellip;</td><td>&hellip;</td><td>&hellip;</td><td>&hellip;</td><td>&hellip;</td><td>&hellip;</td><td>&hellip;</td><td>&hellip;</td><td>&hellip;</td><td>&hellip;</td><td>&hellip;</td><td>&hellip;</td><td>&hellip;</td><td>&hellip;</td><td>&hellip;</td><td>&hellip;</td><td>&hellip;</td><td>&hellip;</td><td>&hellip;</td><td>&hellip;</td><td>&hellip;</td><td>&hellip;</td><td>&hellip;</td><td>&hellip;</td></tr><tr><td>-0.318844</td><td>-0.158143</td><td>-0.480508</td><td>0.036181</td><td>-0.196128</td><td>-0.004113</td><td>0.371136</td><td>-0.016356</td><td>0.680298</td><td>-1.0</td><td>&quot;wood&quot;</td><td>&quot;rs-70_pcds&quot;</td><td>&quot;1717020290-942984619&quot;</td><td>&quot;count&quot;</td><td>3</td><td>5</td><td>12.50001</td><td>3.0</td><td>0.1</td><td>5000</td><td>0.085808</td><td>0.000009</td><td>1586</td><td>0.00003</td><td>0.383718</td><td>-0.048393</td><td>1.259584</td><td>0.012526</td><td>0.021483</td><td>0.026493</td><td>0.910585</td><td>0.325548</td><td>0.182622</td><td>0.177491</td><td>0.00009</td><td>0.381883</td><td>-0.055284</td><td>1.265036</td><td>0.0278</td><td>0.0278</td><td>0.0278</td><td>0.0</td><td>0.0</td><td>0.0</td><td>1.0</td><td>172</td><td>90.0</td><td>0</td><td>172.0</td><td>394</td></tr><tr><td>-0.590501</td><td>-0.368885</td><td>-0.617687</td><td>-0.138613</td><td>0.047773</td><td>-0.236995</td><td>0.159981</td><td>0.332213</td><td>0.753111</td><td>-1.0</td><td>&quot;wood&quot;</td><td>&quot;rs-70_pcds&quot;</td><td>&quot;1717020290-942984619&quot;</td><td>&quot;count&quot;</td><td>3</td><td>5</td><td>12.50001</td><td>3.0</td><td>0.1</td><td>5000</td><td>0.48898</td><td>0.00006</td><td>3346</td><td>0.000093</td><td>0.389012</td><td>-0.064018</td><td>1.273892</td><td>0.021322</td><td>0.023474</td><td>0.044549</td><td>0.618021</td><td>0.595803</td><td>0.192924</td><td>-0.475235</td><td>0.00009</td><td>0.381883</td><td>-0.055284</td><td>1.265036</td><td>0.0278</td><td>0.0278</td><td>0.0278</td><td>0.0</td><td>0.0</td><td>0.0</td><td>1.0</td><td>172</td><td>90.0</td><td>0</td><td>172.0</td><td>409</td></tr><tr><td>-0.515847</td><td>-0.314432</td><td>-0.637438</td><td>-0.06882</td><td>0.093114</td><td>-0.062619</td><td>0.07748</td><td>0.086831</td><td>0.768902</td><td>-1.0</td><td>&quot;wood&quot;</td><td>&quot;rs-70_pcds&quot;</td><td>&quot;1717020290-942984619&quot;</td><td>&quot;count&quot;</td><td>3</td><td>5</td><td>12.50001</td><td>3.0</td><td>0.1</td><td>5000</td><td>0.454701</td><td>0.000052</td><td>3391</td><td>0.000077</td><td>0.387421</td><td>-0.061334</td><td>1.268856</td><td>0.02146</td><td>0.025018</td><td>0.034212</td><td>0.271234</td><td>0.259769</td><td>0.813632</td><td>0.443796</td><td>0.00009</td><td>0.381883</td><td>-0.055284</td><td>1.265036</td><td>0.0278</td><td>0.0278</td><td>0.0278</td><td>0.0</td><td>0.0</td><td>0.0</td><td>1.0</td><td>172</td><td>90.0</td><td>0</td><td>172.0</td><td>439</td></tr><tr><td>-1.25609</td><td>-1.350082</td><td>-0.623468</td><td>-0.256376</td><td>0.178961</td><td>-0.352145</td><td>0.24943</td><td>0.465521</td><td>0.716925</td><td>-1.0</td><td>&quot;wood&quot;</td><td>&quot;rs-70_pcds&quot;</td><td>&quot;1717020290-942984619&quot;</td><td>&quot;count&quot;</td><td>3</td><td>5</td><td>12.50001</td><td>3.0</td><td>0.1</td><td>5000</td><td>0.175165</td><td>0.000063</td><td>3508</td><td>0.000334</td><td>0.399006</td><td>-0.071263</td><td>1.30468</td><td>0.032702</td><td>0.03719</td><td>0.065489</td><td>0.998374</td><td>0.014704</td><td>-0.047445</td><td>0.027971</td><td>0.00009</td><td>0.381883</td><td>-0.055284</td><td>1.265036</td><td>0.0278</td><td>0.0278</td><td>0.0278</td><td>0.0</td><td>0.0</td><td>0.0</td><td>1.0</td><td>172</td><td>90.0</td><td>0</td><td>172.0</td><td>475</td></tr><tr><td>-0.434916</td><td>-0.300679</td><td>-0.578712</td><td>0.16133</td><td>0.009531</td><td>0.032645</td><td>0.16526</td><td>-0.117411</td><td>0.732652</td><td>-1.0</td><td>&quot;wood&quot;</td><td>&quot;rs-70_pcds&quot;</td><td>&quot;1717020290-942984619&quot;</td><td>&quot;count&quot;</td><td>3</td><td>5</td><td>12.50001</td><td>3.0</td><td>0.1</td><td>5000</td><td>0.386842</td><td>0.000049</td><td>2871</td><td>0.000085</td><td>0.392172</td><td>-0.042169</td><td>1.270085</td><td>0.022337</td><td>0.023227</td><td>0.039123</td><td>0.630633</td><td>0.246257</td><td>0.602117</td><td>-0.423219</td><td>0.00009</td><td>0.381883</td><td>-0.055284</td><td>1.265036</td><td>0.0278</td><td>0.0278</td><td>0.0278</td><td>0.0</td><td>0.0</td><td>0.0</td><td>1.0</td><td>172</td><td>90.0</td><td>0</td><td>172.0</td><td>476</td></tr></tbody></table></div>"
      ],
      "text/plain": [
       "shape: (20, 50)\n",
       "┌───────────┬───────────┬───────────┬───────────┬───┬───────────┬──────────┬───────────┬───────────┐\n",
       "│ hyp_a     ┆ hyp_b     ┆ hyp_c     ┆ hyp_d     ┆ … ┆ water_vol ┆ rejected ┆ inlier_va ┆ ransac_it │\n",
       "│ ---       ┆ ---       ┆ ---       ┆ ---       ┆   ┆ ume       ┆ ---      ┆ lue       ┆ eration   │\n",
       "│ f64       ┆ f64       ┆ f64       ┆ f64       ┆   ┆ ---       ┆ u8       ┆ ---       ┆ ---       │\n",
       "│           ┆           ┆           ┆           ┆   ┆ f64       ┆          ┆ f64       ┆ u16       │\n",
       "╞═══════════╪═══════════╪═══════════╪═══════════╪═══╪═══════════╪══════════╪═══════════╪═══════════╡\n",
       "│ -0.228911 ┆ -0.079735 ┆ -0.505236 ┆ -0.029487 ┆ … ┆ 90.0      ┆ 0        ┆ 172.0     ┆ 15        │\n",
       "│ -0.714308 ┆ -0.519436 ┆ -0.777844 ┆ 0.152739  ┆ … ┆ 90.0      ┆ 0        ┆ 172.0     ┆ 16        │\n",
       "│ -0.937587 ┆ -0.364295 ┆ -0.39212  ┆ 0.242148  ┆ … ┆ 90.0      ┆ 0        ┆ 172.0     ┆ 66        │\n",
       "│ -0.618203 ┆ -0.611857 ┆ -0.653381 ┆ 0.112118  ┆ … ┆ 90.0      ┆ 0        ┆ 172.0     ┆ 94        │\n",
       "│ -0.332801 ┆ -0.293314 ┆ -0.699606 ┆ 0.098635  ┆ … ┆ 90.0      ┆ 0        ┆ 172.0     ┆ 97        │\n",
       "│ …         ┆ …         ┆ …         ┆ …         ┆ … ┆ …         ┆ …        ┆ …         ┆ …         │\n",
       "│ -0.318844 ┆ -0.158143 ┆ -0.480508 ┆ 0.036181  ┆ … ┆ 90.0      ┆ 0        ┆ 172.0     ┆ 394       │\n",
       "│ -0.590501 ┆ -0.368885 ┆ -0.617687 ┆ -0.138613 ┆ … ┆ 90.0      ┆ 0        ┆ 172.0     ┆ 409       │\n",
       "│ -0.515847 ┆ -0.314432 ┆ -0.637438 ┆ -0.06882  ┆ … ┆ 90.0      ┆ 0        ┆ 172.0     ┆ 439       │\n",
       "│ -1.25609  ┆ -1.350082 ┆ -0.623468 ┆ -0.256376 ┆ … ┆ 90.0      ┆ 0        ┆ 172.0     ┆ 475       │\n",
       "│ -0.434916 ┆ -0.300679 ┆ -0.578712 ┆ 0.16133   ┆ … ┆ 90.0      ┆ 0        ┆ 172.0     ┆ 476       │\n",
       "└───────────┴───────────┴───────────┴───────────┴───┴───────────┴──────────┴───────────┴───────────┘"
      ]
     },
     "execution_count": 5,
     "metadata": {},
     "output_type": "execute_result"
    }
   ],
   "source": [
    "blackbox = BlackBox(address = address, main_variables=main_variables, scale_correction= scale_corrections[\"wood\"])\n",
    "blackbox.fit()\n",
    "\n",
    "df = Table(blackbox=blackbox, hyperparameters=hyperparameters, main_variables=main_variables, debug=True).prepare()\n",
    "\n",
    "\n",
    "import polars as pl\n",
    "# df = df.dropna()\n",
    "df = df.filter(pl.col(\"rejected\") == 0)\n",
    "df.head(20)"
   ]
  },
  {
   "cell_type": "code",
   "execution_count": 6,
   "metadata": {},
   "outputs": [
    {
     "data": {
      "text/html": [
       "<div><style>\n",
       ".dataframe > thead > tr,\n",
       ".dataframe > tbody > tr {\n",
       "  text-align: right;\n",
       "  white-space: pre-wrap;\n",
       "}\n",
       "</style>\n",
       "<small>shape: (9, 51)</small><table border=\"1\" class=\"dataframe\"><thead><tr><th>statistic</th><th>hyp_a</th><th>hyp_b</th><th>hyp_c</th><th>hyp_d</th><th>hyp_e</th><th>hyp_f</th><th>hyp_g</th><th>hyp_h</th><th>hyp_i</th><th>hyp_j</th><th>dataset</th><th>sector</th><th>pcd_name</th><th>method</th><th>tomato_id</th><th>confine_coeff</th><th>K</th><th>h</th><th>threshold</th><th>sphere_resolution</th><th>iou</th><th>intersect_volume</th><th>intersect_point_count</th><th>pred_volume</th><th>pred_x</th><th>pred_y</th><th>pred_z</th><th>pred_a</th><th>pred_b</th><th>pred_c</th><th>pred_rot_x</th><th>pred_rot_y</th><th>pred_rot_z</th><th>pred_rot_w</th><th>real_volume</th><th>real_x</th><th>real_y</th><th>real_z</th><th>real_a</th><th>real_b</th><th>real_c</th><th>real_rot_x</th><th>real_rot_y</th><th>real_rot_z</th><th>real_rot_w</th><th>real_points_count</th><th>water_volume</th><th>rejected</th><th>inlier_value</th><th>ransac_iteration</th></tr><tr><td>str</td><td>f64</td><td>f64</td><td>f64</td><td>f64</td><td>f64</td><td>f64</td><td>f64</td><td>f64</td><td>f64</td><td>f64</td><td>str</td><td>str</td><td>str</td><td>str</td><td>f64</td><td>f64</td><td>f64</td><td>f64</td><td>f64</td><td>f64</td><td>f64</td><td>f64</td><td>f64</td><td>f64</td><td>f64</td><td>f64</td><td>f64</td><td>f64</td><td>f64</td><td>f64</td><td>f64</td><td>f64</td><td>f64</td><td>f64</td><td>f64</td><td>f64</td><td>f64</td><td>f64</td><td>f64</td><td>f64</td><td>f64</td><td>f64</td><td>f64</td><td>f64</td><td>f64</td><td>f64</td><td>f64</td><td>f64</td><td>f64</td><td>f64</td></tr></thead><tbody><tr><td>&quot;count&quot;</td><td>445.0</td><td>445.0</td><td>445.0</td><td>445.0</td><td>445.0</td><td>445.0</td><td>445.0</td><td>445.0</td><td>445.0</td><td>445.0</td><td>&quot;445&quot;</td><td>&quot;445&quot;</td><td>&quot;445&quot;</td><td>&quot;445&quot;</td><td>445.0</td><td>445.0</td><td>445.0</td><td>445.0</td><td>445.0</td><td>445.0</td><td>445.0</td><td>445.0</td><td>445.0</td><td>445.0</td><td>445.0</td><td>445.0</td><td>445.0</td><td>445.0</td><td>445.0</td><td>445.0</td><td>445.0</td><td>445.0</td><td>445.0</td><td>445.0</td><td>445.0</td><td>445.0</td><td>445.0</td><td>445.0</td><td>445.0</td><td>445.0</td><td>445.0</td><td>445.0</td><td>445.0</td><td>445.0</td><td>445.0</td><td>445.0</td><td>445.0</td><td>445.0</td><td>445.0</td><td>445.0</td></tr><tr><td>&quot;null_count&quot;</td><td>0.0</td><td>0.0</td><td>0.0</td><td>0.0</td><td>0.0</td><td>0.0</td><td>0.0</td><td>0.0</td><td>0.0</td><td>0.0</td><td>&quot;0&quot;</td><td>&quot;0&quot;</td><td>&quot;0&quot;</td><td>&quot;0&quot;</td><td>0.0</td><td>0.0</td><td>0.0</td><td>0.0</td><td>0.0</td><td>0.0</td><td>0.0</td><td>0.0</td><td>0.0</td><td>0.0</td><td>0.0</td><td>0.0</td><td>0.0</td><td>0.0</td><td>0.0</td><td>0.0</td><td>0.0</td><td>0.0</td><td>0.0</td><td>0.0</td><td>0.0</td><td>0.0</td><td>0.0</td><td>0.0</td><td>0.0</td><td>0.0</td><td>0.0</td><td>0.0</td><td>0.0</td><td>0.0</td><td>0.0</td><td>0.0</td><td>0.0</td><td>0.0</td><td>0.0</td><td>0.0</td></tr><tr><td>&quot;mean&quot;</td><td>-0.834153</td><td>-0.697882</td><td>-0.595095</td><td>0.038967</td><td>0.078636</td><td>-0.128364</td><td>0.224651</td><td>0.10985</td><td>0.721237</td><td>-1.0</td><td>null</td><td>null</td><td>null</td><td>null</td><td>3.0</td><td>5.0</td><td>12.50001</td><td>3.0</td><td>0.1</td><td>5000.0</td><td>0.262796</td><td>0.000042</td><td>2771.485393</td><td>0.00013</td><td>0.38834</td><td>-0.054798</td><td>1.278938</td><td>0.020384</td><td>0.02831</td><td>0.043693</td><td>0.218538</td><td>0.181634</td><td>0.347256</td><td>0.211519</td><td>0.00009</td><td>0.381883</td><td>-0.055284</td><td>1.265036</td><td>0.0278</td><td>0.0278</td><td>0.0278</td><td>0.0</td><td>0.0</td><td>0.0</td><td>1.0</td><td>172.0</td><td>90.0</td><td>0.0</td><td>172.0</td><td>4844.433708</td></tr><tr><td>&quot;std&quot;</td><td>0.587275</td><td>0.556082</td><td>0.124687</td><td>0.211062</td><td>0.242036</td><td>0.208125</td><td>0.259601</td><td>0.244645</td><td>0.081504</td><td>0.0</td><td>null</td><td>null</td><td>null</td><td>null</td><td>0.0</td><td>0.0</td><td>0.0</td><td>0.0</td><td>2.7787e-17</td><td>0.0</td><td>0.118188</td><td>0.000019</td><td>663.442763</td><td>0.000125</td><td>0.007898</td><td>0.009261</td><td>0.016793</td><td>0.005943</td><td>0.007528</td><td>0.015476</td><td>0.396636</td><td>0.417836</td><td>0.478242</td><td>0.441586</td><td>0.0</td><td>0.0</td><td>0.0</td><td>0.0</td><td>0.0</td><td>0.0</td><td>0.0</td><td>0.0</td><td>0.0</td><td>0.0</td><td>0.0</td><td>0.0</td><td>0.0</td><td>0.0</td><td>0.0</td><td>2911.987195</td></tr><tr><td>&quot;min&quot;</td><td>-3.434531</td><td>-3.430657</td><td>-0.999376</td><td>-0.807026</td><td>-0.335732</td><td>-0.898005</td><td>-0.577441</td><td>-0.623076</td><td>0.460604</td><td>-1.0</td><td>&quot;wood&quot;</td><td>&quot;rs-70_pcds&quot;</td><td>&quot;1717020290-942984619&quot;</td><td>&quot;count&quot;</td><td>3.0</td><td>5.0</td><td>12.50001</td><td>3.0</td><td>0.1</td><td>5000.0</td><td>1.8803e-27</td><td>1.6923e-31</td><td>202.0</td><td>4.1888e-30</td><td>0.351997</td><td>-0.097405</td><td>1.25422</td><td>1.0000e-10</td><td>1.0000e-10</td><td>1.0000e-10</td><td>-0.554773</td><td>-0.589377</td><td>-0.663855</td><td>-0.672287</td><td>0.00009</td><td>0.381883</td><td>-0.055284</td><td>1.265036</td><td>0.0278</td><td>0.0278</td><td>0.0278</td><td>0.0</td><td>0.0</td><td>0.0</td><td>1.0</td><td>172.0</td><td>90.0</td><td>0.0</td><td>172.0</td><td>15.0</td></tr><tr><td>&quot;25%&quot;</td><td>-1.094494</td><td>-0.925418</td><td>-0.666484</td><td>-0.066345</td><td>-0.098408</td><td>-0.240078</td><td>0.065053</td><td>-0.037019</td><td>0.675025</td><td>-1.0</td><td>null</td><td>null</td><td>null</td><td>null</td><td>3.0</td><td>5.0</td><td>12.50001</td><td>3.0</td><td>0.1</td><td>5000.0</td><td>0.172699</td><td>0.000028</td><td>2430.0</td><td>0.000056</td><td>0.383855</td><td>-0.059679</td><td>1.267042</td><td>0.016458</td><td>0.023227</td><td>0.032499</td><td>-0.055221</td><td>-0.106444</td><td>-0.036951</td><td>-0.081856</td><td>0.00009</td><td>0.381883</td><td>-0.055284</td><td>1.265036</td><td>0.0278</td><td>0.0278</td><td>0.0278</td><td>0.0</td><td>0.0</td><td>0.0</td><td>1.0</td><td>172.0</td><td>90.0</td><td>0.0</td><td>172.0</td><td>2215.0</td></tr><tr><td>&quot;50%&quot;</td><td>-0.658924</td><td>-0.544083</td><td>-0.583305</td><td>0.026272</td><td>0.040027</td><td>-0.117607</td><td>0.217546</td><td>0.124416</td><td>0.722956</td><td>-1.0</td><td>null</td><td>null</td><td>null</td><td>null</td><td>3.0</td><td>5.0</td><td>12.50001</td><td>3.0</td><td>0.1</td><td>5000.0</td><td>0.268928</td><td>0.000048</td><td>2916.0</td><td>0.000085</td><td>0.387842</td><td>-0.055082</td><td>1.274122</td><td>0.019807</td><td>0.02669</td><td>0.040142</td><td>0.155927</td><td>0.022156</td><td>0.242276</td><td>0.088217</td><td>0.00009</td><td>0.381883</td><td>-0.055284</td><td>1.265036</td><td>0.0278</td><td>0.0278</td><td>0.0278</td><td>0.0</td><td>0.0</td><td>0.0</td><td>1.0</td><td>172.0</td><td>90.0</td><td>0.0</td><td>172.0</td><td>4931.0</td></tr><tr><td>&quot;75%&quot;</td><td>-0.410142</td><td>-0.314432</td><td>-0.506034</td><td>0.124243</td><td>0.201251</td><td>-0.001643</td><td>0.382694</td><td>0.24895</td><td>0.771581</td><td>-1.0</td><td>null</td><td>null</td><td>null</td><td>null</td><td>3.0</td><td>5.0</td><td>12.50001</td><td>3.0</td><td>0.1</td><td>5000.0</td><td>0.348176</td><td>0.000057</td><td>3222.0</td><td>0.000152</td><td>0.39126</td><td>-0.050646</td><td>1.287074</td><td>0.024254</td><td>0.031956</td><td>0.049781</td><td>0.450069</td><td>0.427423</td><td>0.897184</td><td>0.578755</td><td>0.00009</td><td>0.381883</td><td>-0.055284</td><td>1.265036</td><td>0.0278</td><td>0.0278</td><td>0.0278</td><td>0.0</td><td>0.0</td><td>0.0</td><td>1.0</td><td>172.0</td><td>90.0</td><td>0.0</td><td>172.0</td><td>7336.0</td></tr><tr><td>&quot;max&quot;</td><td>-0.082033</td><td>-0.057681</td><td>-0.286151</td><td>1.136165</td><td>1.013084</td><td>0.476129</td><td>1.072173</td><td>0.882268</td><td>0.95454</td><td>-1.0</td><td>&quot;wood&quot;</td><td>&quot;rs-70_pcds&quot;</td><td>&quot;1717020290-942984619&quot;</td><td>&quot;count&quot;</td><td>3.0</td><td>5.0</td><td>12.50001</td><td>3.0</td><td>0.1</td><td>5000.0</td><td>0.556516</td><td>0.00007</td><td>3888.0</td><td>0.000939</td><td>0.421697</td><td>-0.007856</td><td>1.36523</td><td>0.04179</td><td>0.055941</td><td>0.121932</td><td>0.999726</td><td>0.999999</td><td>0.999996</td><td>0.999997</td><td>0.00009</td><td>0.381883</td><td>-0.055284</td><td>1.265036</td><td>0.0278</td><td>0.0278</td><td>0.0278</td><td>0.0</td><td>0.0</td><td>0.0</td><td>1.0</td><td>172.0</td><td>90.0</td><td>0.0</td><td>172.0</td><td>9966.0</td></tr></tbody></table></div>"
      ],
      "text/plain": [
       "shape: (9, 51)\n",
       "┌───────────┬───────────┬───────────┬───────────┬───┬───────────┬──────────┬───────────┬───────────┐\n",
       "│ statistic ┆ hyp_a     ┆ hyp_b     ┆ hyp_c     ┆ … ┆ water_vol ┆ rejected ┆ inlier_va ┆ ransac_it │\n",
       "│ ---       ┆ ---       ┆ ---       ┆ ---       ┆   ┆ ume       ┆ ---      ┆ lue       ┆ eration   │\n",
       "│ str       ┆ f64       ┆ f64       ┆ f64       ┆   ┆ ---       ┆ f64      ┆ ---       ┆ ---       │\n",
       "│           ┆           ┆           ┆           ┆   ┆ f64       ┆          ┆ f64       ┆ f64       │\n",
       "╞═══════════╪═══════════╪═══════════╪═══════════╪═══╪═══════════╪══════════╪═══════════╪═══════════╡\n",
       "│ count     ┆ 445.0     ┆ 445.0     ┆ 445.0     ┆ … ┆ 445.0     ┆ 445.0    ┆ 445.0     ┆ 445.0     │\n",
       "│ null_coun ┆ 0.0       ┆ 0.0       ┆ 0.0       ┆ … ┆ 0.0       ┆ 0.0      ┆ 0.0       ┆ 0.0       │\n",
       "│ t         ┆           ┆           ┆           ┆   ┆           ┆          ┆           ┆           │\n",
       "│ mean      ┆ -0.834153 ┆ -0.697882 ┆ -0.595095 ┆ … ┆ 90.0      ┆ 0.0      ┆ 172.0     ┆ 4844.4337 │\n",
       "│           ┆           ┆           ┆           ┆   ┆           ┆          ┆           ┆ 08        │\n",
       "│ std       ┆ 0.587275  ┆ 0.556082  ┆ 0.124687  ┆ … ┆ 0.0       ┆ 0.0      ┆ 0.0       ┆ 2911.9871 │\n",
       "│           ┆           ┆           ┆           ┆   ┆           ┆          ┆           ┆ 95        │\n",
       "│ min       ┆ -3.434531 ┆ -3.430657 ┆ -0.999376 ┆ … ┆ 90.0      ┆ 0.0      ┆ 172.0     ┆ 15.0      │\n",
       "│ 25%       ┆ -1.094494 ┆ -0.925418 ┆ -0.666484 ┆ … ┆ 90.0      ┆ 0.0      ┆ 172.0     ┆ 2215.0    │\n",
       "│ 50%       ┆ -0.658924 ┆ -0.544083 ┆ -0.583305 ┆ … ┆ 90.0      ┆ 0.0      ┆ 172.0     ┆ 4931.0    │\n",
       "│ 75%       ┆ -0.410142 ┆ -0.314432 ┆ -0.506034 ┆ … ┆ 90.0      ┆ 0.0      ┆ 172.0     ┆ 7336.0    │\n",
       "│ max       ┆ -0.082033 ┆ -0.057681 ┆ -0.286151 ┆ … ┆ 90.0      ┆ 0.0      ┆ 172.0     ┆ 9966.0    │\n",
       "└───────────┴───────────┴───────────┴───────────┴───┴───────────┴──────────┴───────────┴───────────┘"
      ]
     },
     "execution_count": 6,
     "metadata": {},
     "output_type": "execute_result"
    }
   ],
   "source": [
    "df.describe()"
   ]
  },
  {
   "cell_type": "code",
   "execution_count": null,
   "metadata": {},
   "outputs": [],
   "source": []
  }
 ],
 "metadata": {
  "kernelspec": {
   "display_name": "Python 3",
   "language": "python",
   "name": "python3"
  },
  "language_info": {
   "codemirror_mode": {
    "name": "ipython",
    "version": 3
   },
   "file_extension": ".py",
   "mimetype": "text/x-python",
   "name": "python",
   "nbconvert_exporter": "python",
   "pygments_lexer": "ipython3",
   "version": "3.12.7"
  }
 },
 "nbformat": 4,
 "nbformat_minor": 2
}
